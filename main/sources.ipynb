{
 "cells": [
  {
   "cell_type": "code",
   "execution_count": null,
   "metadata": {
    "vscode": {
     "languageId": "sql"
    }
   },
   "outputs": [],
   "source": [
    "CREATE SOURCE IF NOT EXISTS client_source (\n",
    "    datum_registracije TIMESTAMP,\n",
    "    jedinstveni_identifikator INT,\n",
    "    starost INT,\n",
    "    pol VARCHAR,\n",
    "    bracno_stanje VARCHAR\n",
    ")\n",
    "WITH (\n",
    "   connector='kafka',\n",
    "   topic='client_events',\n",
    "   properties.bootstrap.server='redpanda-0:9092'\n",
    ") FORMAT PLAIN ENCODE JSON;\n"
   ]
  },
  {
   "cell_type": "code",
   "execution_count": null,
   "metadata": {
    "vscode": {
     "languageId": "sql"
    }
   },
   "outputs": [],
   "source": [
    "CREATE SOURCE IF NOT EXISTS product_change_source (\n",
    "    jedinstveni_identifikator INT,\n",
    "    datum TIMESTAMP,\n",
    "    proizvod VARCHAR,\n",
    "    indikator VARCHAR\n",
    ")\n",
    "WITH (\n",
    "   connector='kafka',\n",
    "   topic='product_change_events',\n",
    "   properties.bootstrap.server='redpanda-0:9092'\n",
    ") FORMAT PLAIN ENCODE JSON;"
   ]
  },
  {
   "cell_type": "code",
   "execution_count": null,
   "metadata": {
    "vscode": {
     "languageId": "sql"
    }
   },
   "outputs": [],
   "source": [
    "CREATE SOURCE IF NOT EXISTS transaction_source (\n",
    "    jedinstveni_identifikator INT,\n",
    "    datum_transakcije TIMESTAMP,\n",
    "    vrsta_transakcije VARCHAR,\n",
    "    iznos_transakcije REAL\n",
    ")\n",
    "WITH (\n",
    "   connector='kafka',\n",
    "   topic='transaction_events',\n",
    "   properties.bootstrap.server='redpanda-0:9092'\n",
    ") FORMAT PLAIN ENCODE JSON;"
   ]
  },
  {
   "cell_type": "code",
   "execution_count": null,
   "metadata": {
    "vscode": {
     "languageId": "sql"
    }
   },
   "outputs": [],
   "source": [
    "CREATE MATERIALIZED VIEW IF NOT EXISTS client_latest_mv AS\n",
    "SELECT c.jedinstveni_identifikator, c.datum_registracije, c.starost, c.pol, c.bracno_stanje, MAX(p.datum) AS poslednja_posjeta\n",
    "FROM client_source c\n",
    "JOIN product_change_source p ON c.jedinstveni_identifikator = p.jedinstveni_identifikator\n",
    "GROUP BY c.jedinstveni_identifikator, c.datum_registracije, c.starost, c.pol, c.bracno_stanje;"
   ]
  },
  {
   "cell_type": "code",
   "execution_count": null,
   "metadata": {
    "vscode": {
     "languageId": "sql"
    }
   },
   "outputs": [],
   "source": [
    "CREATE MATERIALIZED VIEW product_window_summary AS\n",
    "SELECT\n",
    "    jedinstveni_identifikator,\n",
    "    window_start,\n",
    "    window_end,\n",
    "    CASE WHEN SUM(CASE WHEN proizvod = 'pozajmica' AND 'indikator' = 'uzmi' THEN 1 ELSE -1 END) > 0 THEN 1 ELSE 0 END AS pozajmica,\n",
    "    CASE WHEN SUM(CASE WHEN proizvod = 'kredit' AND 'indikator' = 'uzmi' THEN 1 ELSE -1 END) > 0 THEN 1 ELSE 0 END AS kredit,\n",
    "    CASE WHEN SUM(CASE WHEN proizvod = 'elektronsko bankarstvo' AND 'indikator' = 'uzmi' THEN 1 ELSE -1 END) > 0 THEN 1 ELSE 0 END AS elektronsko_bankarstvo,\n",
    "    CASE WHEN SUM(CASE WHEN proizvod = 'kreditna kartica' AND 'indikator' = 'uzmi' THEN 1 ELSE -1 END) > 0 THEN 1 ELSE 0 END AS kreditna_kartica             \n",
    "FROM TUMBLE(product_change_source, datum, INTERVAL '1 HOUR') \n",
    "WHERE window_start = (\n",
    "    SELECT MAX(window_start)\n",
    "    FROM TUMBLE(product_change_source, datum, INTERVAL '1 HOUR')\n",
    ")\n",
    "GROUP BY\n",
    "    jedinstveni_identifikator, window_start, window_end;  "
   ]
  },
  {
   "cell_type": "code",
   "execution_count": null,
   "metadata": {
    "vscode": {
     "languageId": "sql"
    }
   },
   "outputs": [],
   "source": [
    "CREATE MATERIALIZED VIEW transaction_window_summary AS\n",
    "SELECT\n",
    "    jedinstveni_identifikator,\n",
    "    COUNT(CASE WHEN vrsta_transakcije = 'isplate i uplate šalter' THEN 1 ELSE 0 END) AS isplate_i_uplate_salter_broj,\n",
    "    SUM(CASE WHEN vrsta_transakcije = 'isplate i uplate šalter' THEN iznos_transakcije ELSE 0 END) AS isplate_i_uplate_salter_iznos,\n",
    "    COUNT(CASE WHEN vrsta_transakcije = 'isplate i uplate bankomat' THEN 1 ELSE 0 END) AS isplate_i_uplate_bankomat_broj,\n",
    "    SUM(CASE WHEN vrsta_transakcije = 'isplate i uplate bankomat' THEN iznos_transakcije ELSE 0 END) AS isplate_i_uplate_bankomat_iznos,\n",
    "    COUNT(CASE WHEN vrsta_transakcije = 'nalozi šalter' THEN 1 ELSE 0 END) AS nalozi_salter_broj,\n",
    "    SUM(CASE WHEN vrsta_transakcije = 'nalozi šalter' THEN iznos_transakcije ELSE 0 END) AS nalozi_salter_iznos,\n",
    "    COUNT(CASE WHEN vrsta_transakcije = 'nalozi devizni šalter' THEN 1 ELSE 0 END) AS nalozi_devizni_salter_broj,\n",
    "    SUM(CASE WHEN vrsta_transakcije = 'nalozi devizni šalter' THEN iznos_transakcije ELSE 0 END) AS nalozi_devizni_salter_iznos,\n",
    "    COUNT(CASE WHEN vrsta_transakcije = 'nalozi e-bankarstvo' THEN 1 ELSE 0 END) AS nalozi_ebankarstvo_broj,\n",
    "    SUM(CASE WHEN vrsta_transakcije = 'nalozi e-bankarstvo' THEN iznos_transakcije ELSE 0 END) AS nalozi_ebankarstvo_iznos,\n",
    "    COUNT(CASE WHEN vrsta_transakcije = 'nalozi smart-atm' THEN 1 ELSE 0 END) AS nalozi_smartatm_broj,\n",
    "    SUM(CASE WHEN vrsta_transakcije = 'nalozi smart-atm' THEN iznos_transakcije ELSE 0 END) AS nalozi_smartatm_iznos,\n",
    "    COUNT(CASE WHEN vrsta_transakcije = 'trajni nalog' THEN 1 ELSE 0 END) AS trajni_nalog_broj,\n",
    "    SUM(CASE WHEN vrsta_transakcije = 'trajni nalog' THEN iznos_transakcije ELSE 0 END) AS trajni_nalog_iznos,\n",
    "    COUNT(CASE WHEN vrsta_transakcije = 'plaćanje i isplata kreditna kartica' THEN 1 ELSE 0 END) AS placanje_i_isplata_kreditna_kartica_broj,\n",
    "    SUM(CASE WHEN vrsta_transakcije = 'plaćanje i isplata kreditna kartica' THEN iznos_transakcije ELSE 0 END) AS placanje_i_isplata_kreditna_kartica_iznos,\n",
    "    COUNT(CASE WHEN vrsta_transakcije = 'plaćanje kreditna kartica web' THEN 1 ELSE 0 END) AS placanje_kreditna_kartica_web_broj,\n",
    "    SUM(CASE WHEN vrsta_transakcije = 'plaćanje kreditna kartica web' THEN iznos_transakcije ELSE 0 END) AS placanje_kreditna_kartica_web_iznos\n",
    "FROM TUMBLE(transaction_source, datum_transakcije, INTERVAL '1 HOUR')\n",
    "WHERE window_start = (\n",
    "    SELECT MAX(window_start)\n",
    "    FROM TUMBLE(transaction_source, datum_transakcije, INTERVAL '1 HOUR')\n",
    ")\n",
    "GROUP BY\n",
    "    jedinstveni_identifikator;"
   ]
  },
  {
   "cell_type": "code",
   "execution_count": null,
   "metadata": {
    "vscode": {
     "languageId": "sql"
    }
   },
   "outputs": [],
   "source": [
    "CREATE MATERIALIZED VIEW agregirani_mv AS\n",
    "SELECT\n",
    "    c.jedinstveni_identifikator, \n",
    "    c.datum_registracije, \n",
    "    c.starost, \n",
    "    c.pol, \n",
    "    c.bracno_stanje, \n",
    "    c.poslednja_posjeta,\n",
    "    p.pozajmica,\n",
    "    p.kredit,\n",
    "    p.elektronsko_bankarstvo,\n",
    "    p.kreditna_kartica,\n",
    "    t.isplate_i_uplate_salter_broj,\n",
    "    t.isplate_i_uplate_salter_iznos,\n",
    "    t.isplate_i_uplate_bankomat_broj,\n",
    "    t.isplate_i_uplate_bankomat_iznos,\n",
    "    t.nalozi_salter_broj,\n",
    "    t.nalozi_salter_iznos,\n",
    "    t.nalozi_devizni_salter_broj,\n",
    "    t.nalozi_devizni_salter_iznos,\n",
    "    t.nalozi_ebankarstvo_broj,\n",
    "    t.nalozi_ebankarstvo_iznos,\n",
    "    t.nalozi_smartatm_broj,\n",
    "    t.nalozi_smartatm_iznos,\n",
    "    t.trajni_nalog_broj,\n",
    "    t.trajni_nalog_iznos,\n",
    "    t.placanje_i_isplata_kreditna_kartica_broj,\n",
    "    t.placanje_i_isplata_kreditna_kartica_iznos,\n",
    "    t.placanje_kreditna_kartica_web_broj,\n",
    "    t.placanje_kreditna_kartica_web_iznos\n",
    "FROM\n",
    "    client_latest_mv c\n",
    "LEFT JOIN\n",
    "    product_window_summary p ON c.jedinstveni_identifikator = p.jedinstveni_identifikator\n",
    "LEFT JOIN\n",
    "    transaction_window_summary t ON c.jedinstveni_identifikator = t.jedinstveni_identifikator;"
   ]
  }
 ],
 "metadata": {
  "language_info": {
   "name": "python"
  }
 },
 "nbformat": 4,
 "nbformat_minor": 2
}
