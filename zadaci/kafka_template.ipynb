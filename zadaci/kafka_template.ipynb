{
 "cells": [
  {
   "cell_type": "markdown",
   "metadata": {},
   "source": [
    "*Za rad sa Kafkom, proučiti [kafka-python dokumentaciju](https://kafka-python.readthedocs.io/en/master/).* "
   ]
  },
  {
   "cell_type": "markdown",
   "metadata": {},
   "source": [
    "### Zadatak 1: Jednostavan Producer i Consumer\n",
    "\n",
    "Kreirajte jednostavan Kafka producer koji šalje poruke u JSON formatu (user_id, timestamp, i activity) na jedan topic i consumer koji čita poruke iz istog topic-a."
   ]
  },
  {
   "cell_type": "code",
   "execution_count": 1,
   "metadata": {},
   "outputs": [
    {
     "name": "stdout",
     "output_type": "stream",
     "text": [
      "Received message: {'user_id': 12345, 'timestamp': '2025-03-04T10:42:45Z', 'activity': 'login'}\n",
      "Received message: {'user_id': 12345, 'timestamp': '2025-03-04T10:42:45Z', 'activity': 'login'}\n",
      "Received message: {'user_id': 12345, 'timestamp': '2025-03-04T10:42:45Z', 'activity': 'login'}\n",
      "Received message: {'user_id': 12345, 'timestamp': '2025-03-04T10:42:45Z', 'activity': 'login'}\n",
      "Received message: {'user_id': 12345, 'timestamp': '2025-03-04T10:42:45Z', 'activity': 'login'}\n",
      "Received message: {'user_id': 12345, 'timestamp': '2025-03-04T10:42:45Z', 'activity': 'login'}\n",
      "Received message: {'user_id': 12345, 'timestamp': '2025-03-04T10:42:45Z', 'activity': 'login'}\n",
      "Received message: {'user_id': 12345, 'timestamp': '2025-03-04T10:42:45Z', 'activity': 'login'}\n",
      "Received message: {'user_id': 12345, 'timestamp': '2025-03-04T10:42:45Z', 'activity': 'login'}\n",
      "Received message: {'user_id': 12345, 'timestamp': '2025-03-04T10:42:45Z', 'activity': 'login'}\n",
      "Received message: {'user_id': 12345, 'timestamp': '2025-03-04T10:42:45Z', 'activity': 'login'}\n",
      "Received message: {'user_id': 12345, 'timestamp': '2025-03-04T10:42:45Z', 'activity': 'login'}\n"
     ]
    }
   ],
   "source": [
    "from kafka import KafkaProducer\n",
    "from kafka import KafkaConsumer\n",
    "import json\n",
    "import time\n",
    "\n",
    "producer = KafkaProducer(\n",
    "    bootstrap_servers=['localhost:19092'],\n",
    "    value_serializer=lambda v: json.dumps(v).encode('utf-8'),\n",
    ")\n",
    "\n",
    "message = {\n",
    "    'user_id': 12345,\n",
    "    'timestamp': \"2025-03-04T10:42:45Z\",\n",
    "    'activity': \"login\"\n",
    "}\n",
    "\n",
    "producer.send('my_topic', message)\n",
    "time.sleep(1)\n",
    "\n",
    "producer.close()\n",
    "\n",
    "consumer = KafkaConsumer(\n",
    "    'my_topic',  \n",
    "    bootstrap_servers='localhost:19092',  \n",
    "    value_deserializer=lambda x: json.loads(x.decode('utf-8')),\n",
    "    auto_offset_reset='earliest',\n",
    "    consumer_timeout_ms = 5000\n",
    ")\n",
    "\n",
    "for message in consumer:\n",
    "    print(f\"Received message: {message.value}\")\n",
    "    \n",
    "\n",
    "consumer.close()"
   ]
  },
  {
   "cell_type": "markdown",
   "metadata": {},
   "source": [
    "### Zadatak 2: Producer na dva topica i Consumer iz više topic-a\n",
    "\n",
    "Kreirajte producer koji šalje dva tipa poruka (aktivnosti korisnika - npr. take_product, leave_product, transakcije korisnika - deposit, withdrawal) na dva različita topic-a i consumer koji čita poruke iz oba topic-a."
   ]
  },
  {
   "cell_type": "code",
   "execution_count": null,
   "metadata": {},
   "outputs": [],
   "source": [
    "producer = KafkaProducer(\n",
    "    bootstrap_servers=['localhost:19092'],\n",
    "    value_serializer=lambda v: json.dumps(v).encode('utf-8')\n",
    ")\n",
    "\n",
    "def send_message(topic, message):\n",
    "    producer.send(topic, message)\n",
    "    producer.flush() \n",
    "    print(f\"Poruka poslata na {topic}: {message}\")\n",
    "\n",
    "send_message('topic1', {\n",
    "  \"type\": \"take_product\",\n",
    "  \"user_id\": \"user123\",\n",
    "  \"product_id\": \"product456\",\n",
    "  \"timestamp\": \"2025-03-04T14:30:00Z\"\n",
    "})\n",
    "send_message('topic2', {\n",
    "  \"type\": \"deposit\",\n",
    "  \"user_id\": \"user123\",\n",
    "  \"amount\": 1000.50,\n",
    "  \"timestamp\": \"2025-03-04T14:45:00Z\"\n",
    "})\n",
    "\n",
    "producer.close()\n",
    "\n",
    "\n",
    "consumer = KafkaConsumer('topic1', 'topic2',  \n",
    "                         bootstrap_servers='localhost:19092',  \n",
    "                         value_deserializer=lambda x: json.loads(x.decode('utf-8')),\n",
    "                         auto_offset_reset='earliest')  \n",
    "\n",
    "for message in consumer:\n",
    "    topic = message.topic\n",
    "    data = message.value\n",
    "    print(f\"Primljena poruka sa topica {topic}: {data}\")\n",
    "\n",
    "consumer.close()"
   ]
  },
  {
   "cell_type": "markdown",
   "metadata": {},
   "source": [
    "### Zadatak 3: Producer koji šalje poruke različitog formata na jedan topic\n",
    "\n",
    "Kreirajte producer koji šalje poruke različitog formata na jedan topic.\n",
    "\n",
    "1. Zajednički atributi za sve poruke:\n",
    "   - timestamp\n",
    "   - user_id\n",
    "   - message_key (za identifikaciju tipa poruke)\n",
    "\n",
    "2. Specifični atributi za različite tipove poruka:\n",
    "   - Activity poruke: action, bank\n",
    "   - Transaction poruke: transaction_type, amount"
   ]
  },
  {
   "cell_type": "code",
   "execution_count": null,
   "metadata": {},
   "outputs": [],
   "source": [
    "# code"
   ]
  },
  {
   "cell_type": "markdown",
   "metadata": {},
   "source": [
    "### Zadatak 4: Procesiranje poruka po tipu\n",
    "\n",
    "Kreirajte consumer koji čita poruke iz jednog topic-a i procesira ih prema tipu. Implementirajte:\n",
    "\n",
    "1. Identifikovanje tipa poruke\n",
    "   - Koristiti message_key za identifikaciju tipa poruke\n",
    "   - Validacija formata poruke prema tipu\n",
    "\n",
    "2. Procesiranje poruke\n",
    "   - Različita logika procesiranja za svaki tip poruke"
   ]
  },
  {
   "cell_type": "code",
   "execution_count": null,
   "metadata": {},
   "outputs": [],
   "source": [
    "# code"
   ]
  },
  {
   "cell_type": "markdown",
   "metadata": {},
   "source": [
    "### Zadatak 5: Stream processing pipeline\n",
    "\n",
    "Implementirajte stream processing pipeline koji:\n",
    "\n",
    "1. Čita poruke iz izvornog topic-a\n",
    "2. Procesira poruke:\n",
    "   - Transformiše poruke u novi format\n",
    "   - Dodaje processed_timestamp\n",
    "\n",
    "3. Šalje procesirane poruke na novi topic"
   ]
  },
  {
   "cell_type": "code",
   "execution_count": null,
   "metadata": {},
   "outputs": [],
   "source": [
    "# code"
   ]
  },
  {
   "cell_type": "markdown",
   "metadata": {},
   "source": [
    "### Zadatak: Kreiranje Kafka utils modula\n",
    "\n",
    "Kreirati Python modul `kafka_utils.py` koji će sadržati pomoćne funkcije za rad sa Kafkom koristeći kafka-python-ng paket.\n",
    "\n",
    "Modul treba da sadrži:\n",
    "- Funkciju za kreiranje i konfiguraciju Kafka producer-a\n",
    "- Funkcije za slanje poruka na Kafka topic\n",
    "- Funkciju za kreiranje Kafka topic-a\n",
    "\n",
    "Testirati modul sa primjerima korištenja svake funkcije."
   ]
  }
 ],
 "metadata": {
  "kernelspec": {
   "display_name": ".venv",
   "language": "python",
   "name": "python3"
  },
  "language_info": {
   "codemirror_mode": {
    "name": "ipython",
    "version": 3
   },
   "file_extension": ".py",
   "mimetype": "text/x-python",
   "name": "python",
   "nbconvert_exporter": "python",
   "pygments_lexer": "ipython3",
   "version": "3.12.7"
  }
 },
 "nbformat": 4,
 "nbformat_minor": 2
}
