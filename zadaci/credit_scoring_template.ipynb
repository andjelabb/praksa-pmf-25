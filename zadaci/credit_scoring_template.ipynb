{
 "cells": [
  {
   "cell_type": "markdown",
   "metadata": {},
   "source": [
    "### Klasifikacija kreditnog rizika - credit scoring classification\n",
    "\n",
    "Osnovni cilj ovog primjera je da se upoznate sa Python paketima za obradu podataka i mašinsko učenje, sa fokusom na **scikit-learn** i **LightGBM** pakete. U ovom primjeru ćete koristiti skup podataka **credit-g v.2** koji sadrži informacije o klijentima banke, cilj je klasifikacija klijenata kao dobrih ili loših korisnika kredita.\n",
    "\n",
    "**Dokumentacija paketa:**\n",
    "* [pandas docs](https://pandas.pydata.org/docs/)\n",
    "* [scikit-learn docs](https://scikit-learn.org/stable/)\n",
    "* [LightGBM docs](https://lightgbm.readthedocs.io/en/stable/)\n",
    "* [Matplotlib docs](https://matplotlib.org/stable/index.html)\n",
    "* [seaborn docs](https://seaborn.pydata.org/)"
   ]
  },
  {
   "cell_type": "markdown",
   "metadata": {},
   "source": [
    "Koristeći sklearn, učitati skup podataka *credit-g v.2* (dataset id=44096), upoznati se sa skupom podataka, analizirati podatke i pripremiti ih za obradu.  \n",
    "Identifikovati tipove podataka - numeričke i kategoričke.  \n",
    "Provjeriti da li postoje nedostajuće vrijednosti, ako da, obraditi ih.  \n",
    "Provjeriti broj jedinstvenih vrijednosti za svaku kolonu."
   ]
  },
  {
   "cell_type": "code",
   "execution_count": null,
   "metadata": {},
   "outputs": [],
   "source": [
    "# code"
   ]
  },
  {
   "cell_type": "markdown",
   "metadata": {},
   "source": [
    "Izdvojiti numeričke i kategoričke kolone."
   ]
  },
  {
   "cell_type": "code",
   "execution_count": null,
   "metadata": {},
   "outputs": [],
   "source": [
    "# code"
   ]
  },
  {
   "cell_type": "markdown",
   "metadata": {},
   "source": [
    "Pregledati jedinstvene vrijednosti za kategoričke kolone."
   ]
  },
  {
   "cell_type": "code",
   "execution_count": null,
   "metadata": {},
   "outputs": [],
   "source": [
    "# code"
   ]
  },
  {
   "cell_type": "markdown",
   "metadata": {},
   "source": [
    "Kreirati preprocessing pipeline koji će:  \n",
    "    - koristiti StandardScaler za sve numeričke kolone osim 'age' kolone  \n",
    "    - koristiti OrdinalEncoder za kategoričke kolone  \n",
    "    - koristiti custom transformer koji će godine klijenta prebaciti u odgovarajuće starosne grupe [primjer](https://scikit-learn.org/stable/modules/generated/sklearn.base.TransformerMixin.html)\n",
    "\n",
    "Navedene transformacije je potrebno integrisati u jedan transformer pipeline - koristiti ColumnTransformer."
   ]
  },
  {
   "cell_type": "code",
   "execution_count": null,
   "metadata": {},
   "outputs": [],
   "source": [
    "# code"
   ]
  },
  {
   "cell_type": "markdown",
   "metadata": {},
   "source": [
    "Enkodirati ciljanu varijablu koristeći LabelEncoder."
   ]
  },
  {
   "cell_type": "code",
   "execution_count": null,
   "metadata": {},
   "outputs": [],
   "source": [
    "# code"
   ]
  },
  {
   "cell_type": "markdown",
   "metadata": {},
   "source": [
    "Dodati ciljanu varijablu u skup podataka i izračunati matricu korelacije."
   ]
  },
  {
   "cell_type": "code",
   "execution_count": null,
   "metadata": {},
   "outputs": [],
   "source": [
    "# code"
   ]
  },
  {
   "cell_type": "markdown",
   "metadata": {},
   "source": [
    "Analizirati korelacije u odnosu na ciljanu varijablu i izdvojiti 4 najveće i 4 najmanje korelacije."
   ]
  },
  {
   "cell_type": "code",
   "execution_count": null,
   "metadata": {},
   "outputs": [],
   "source": [
    "# code"
   ]
  },
  {
   "cell_type": "markdown",
   "metadata": {},
   "source": [
    "Podijeliti podatke na skup za treniranje i testiranje"
   ]
  },
  {
   "cell_type": "code",
   "execution_count": null,
   "metadata": {},
   "outputs": [],
   "source": [
    "# code"
   ]
  },
  {
   "cell_type": "markdown",
   "metadata": {},
   "source": [
    "Izvršiti treniranje LightGBM modela i prikazati rezultat evaluacije modela koristeći 'accuracy_score'."
   ]
  },
  {
   "cell_type": "code",
   "execution_count": null,
   "metadata": {},
   "outputs": [],
   "source": [
    "# code"
   ]
  },
  {
   "cell_type": "markdown",
   "metadata": {},
   "source": [
    "Koristeći scikit-learn model_selection.GridSearchCV, optimizirati parametre LightGBM modela."
   ]
  },
  {
   "cell_type": "code",
   "execution_count": null,
   "metadata": {},
   "outputs": [],
   "source": [
    "# code"
   ]
  }
 ],
 "metadata": {
  "kernelspec": {
   "display_name": ".venv",
   "language": "python",
   "name": "python3"
  },
  "language_info": {
   "codemirror_mode": {
    "name": "ipython",
    "version": 3
   },
   "file_extension": ".py",
   "mimetype": "text/x-python",
   "name": "python",
   "nbconvert_exporter": "python",
   "pygments_lexer": "ipython3",
   "version": "3.10.11"
  }
 },
 "nbformat": 4,
 "nbformat_minor": 2
}
