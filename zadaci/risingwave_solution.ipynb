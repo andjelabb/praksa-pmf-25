{
 "cells": [
  {
   "cell_type": "markdown",
   "metadata": {},
   "source": [
    "**Napomena:** SQL upite i skripte možete sačuvati kao .sql fajlove i izvršavati ih u DBeaver SQL editoru."
   ]
  },
  {
   "cell_type": "markdown",
   "metadata": {},
   "source": [
    "### 1. Kreiranje izvora podataka\n",
    "\n",
    "Napravite source koji će čitati poruke sa Kafka topica \"user_events\" iz prethodne vježbe."
   ]
  },
  {
   "cell_type": "code",
   "execution_count": null,
   "metadata": {
    "vscode": {
     "languageId": "sql"
    }
   },
   "outputs": [],
   "source": [
    "CREATE SOURCE IF NOT EXISTS user_events_source (\n",
    "    timestamp TIMESTAMP,\n",
    "    user_id INT,\n",
    "    action VARCHAR,\n",
    "    bank VARCHAR,\n",
    "    transaction_type VARCHAR,\n",
    "    amount REAL,\n",
    "    message_key VARCHAR\n",
    ")\n",
    "WITH (\n",
    "   connector='kafka',\n",
    "   topic='user_events',\n",
    "   properties.bootstrap.server='redpanda-0:9092'\n",
    ") FORMAT PLAIN ENCODE JSON;"
   ]
  },
  {
   "cell_type": "markdown",
   "metadata": {},
   "source": [
    "### 2. Kreiranje materijalizovanih pogleda\n",
    "\n",
    "Kreirajte materijalizovane poglede (materialized views) na osnovu podataka u user_events_source, tako da svaki tip poruka ima odvojen pogled. Jedan za activity tip poruka i jedan za transactions tip poruka."
   ]
  },
  {
   "cell_type": "code",
   "execution_count": null,
   "metadata": {
    "vscode": {
     "languageId": "sql"
    }
   },
   "outputs": [],
   "source": [
    "CREATE MATERIALIZED VIEW activity_data AS\n",
    "SELECT timestamp, user_id, action, bank\n",
    "FROM user_events_source\n",
    "WHERE message_key = 'activity';\n",
    "\n",
    "CREATE MATERIALIZED VIEW transaction_data AS\n",
    "SELECT timestamp, user_id, transaction_type, amount\n",
    "FROM user_events_source\n",
    "WHERE message_key = 'transaction';"
   ]
  },
  {
   "cell_type": "markdown",
   "metadata": {},
   "source": [
    "### 3. Agregiranje podataka po korisniku\n",
    "\n",
    "Nakon što ste kreirali poglede, potrebno je da obavite agregaciju podataka iz activity_data i transaction_data. Kreirajte sljedeće materijalizovane poglede:"
   ]
  },
  {
   "cell_type": "markdown",
   "metadata": {},
   "source": [
    "3.1. Broj akcija po korisniku (user_activity_count)  \n",
    "Kreirati materijalizovani pogled koji prikazuje ukupan broj akcija za svakog korisnika, bez obzira na tip akcije.\n"
   ]
  },
  {
   "cell_type": "code",
   "execution_count": null,
   "metadata": {
    "vscode": {
     "languageId": "sql"
    }
   },
   "outputs": [],
   "source": [
    "CREATE MATERIALIZED VIEW user_activity_count AS\n",
    "SELECT user_id, COUNT(*) AS total_actions\n",
    "FROM activity_data\n",
    "GROUP BY user_id;"
   ]
  },
  {
   "cell_type": "markdown",
   "metadata": {
    "vscode": {
     "languageId": "plaintext"
    }
   },
   "source": [
    "3.2. Agregiranje aktivnosti korisnika (user_activity_summary)  \n",
    "Kreirati materijalizovani pogled koji prikazuje statistiku aktivnosti po korisniku. Za svakog korisnika potrebno je izračunati:  \n",
    "- Broj uzimanja proizvoda (`take_product`)  \n",
    "- Broj vraćanja proizvoda (`leave_product`)  \n",
    "- ... "
   ]
  },
  {
   "cell_type": "code",
   "execution_count": null,
   "metadata": {
    "vscode": {
     "languageId": "sql"
    }
   },
   "outputs": [],
   "source": [
    "CREATE MATERIALIZED VIEW user_activity_summary AS\n",
    "SELECT user_id,\n",
    "       COUNT(CASE WHEN action = 'take_product' THEN 1 END) AS take_product_count,\n",
    "       COUNT(CASE WHEN action = 'leave_product' THEN 1 END) AS leave_product_count\n",
    "FROM activity_data\n",
    "GROUP BY user_id;"
   ]
  },
  {
   "cell_type": "code",
   "execution_count": null,
   "metadata": {
    "vscode": {
     "languageId": "sql"
    }
   },
   "outputs": [],
   "source": [
    "CREATE MATERIALIZED VIEW user_activity_summary AS\n",
    "SELECT user_id,\n",
    "       COUNT(*) FILTER (WHERE action = 'take_product') AS take_product_count,\n",
    "       COUNT(*) FILTER (WHERE action = 'leave_product') AS leave_product_count\n",
    "FROM activity_data\n",
    "GROUP BY user_id;"
   ]
  },
  {
   "cell_type": "markdown",
   "metadata": {},
   "source": [
    "3.3. Pregled transakcija po korisniku (user_transaction_summary)  \n",
    "Kreirati materijalizovani pogled koji sumira finansijske aktivnosti korisnika. Za svakog korisnika potrebno je izračunati:  \n",
    "- Broj i ukupan iznos depozita  \n",
    "- Broj i ukupan iznos povlačenja sredstava\n",
    "- ... "
   ]
  },
  {
   "cell_type": "code",
   "execution_count": null,
   "metadata": {
    "vscode": {
     "languageId": "sql"
    }
   },
   "outputs": [],
   "source": [
    "CREATE MATERIALIZED VIEW user_transaction_summary AS\n",
    "SELECT user_id,\n",
    "       COUNT(CASE WHEN transaction_type = 'deposit' THEN 1 END) AS deposit_count,\n",
    "       SUM(CASE WHEN transaction_type = 'deposit' THEN amount ELSE 0 END) AS deposit_amount,\n",
    "\n",
    "       COUNT(CASE WHEN transaction_type = 'withdrawal' THEN 1 END) AS withdrawal_count,\n",
    "       SUM(CASE WHEN transaction_type = 'withdrawal' THEN amount ELSE 0 END) AS withdrawal_amount,\n",
    "\n",
    "       COUNT(CASE WHEN transaction_type = 'transfer' THEN 1 END) AS transfer_count,\n",
    "       SUM(CASE WHEN transaction_type = 'transfer' THEN amount ELSE 0 END) AS transfer_amount,\n",
    "       \n",
    "       COUNT(CASE WHEN transaction_type = 'payment' THEN 1 END) AS payment_count,\n",
    "       SUM(CASE WHEN transaction_type = 'payment' THEN amount ELSE 0 END) AS payment_amount\n",
    "FROM transaction_data\n",
    "GROUP BY user_id;"
   ]
  },
  {
   "cell_type": "code",
   "execution_count": null,
   "metadata": {
    "vscode": {
     "languageId": "sql"
    }
   },
   "outputs": [],
   "source": [
    "CREATE MATERIALIZED VIEW user_transaction_summary AS\n",
    "SELECT user_id,\n",
    "       COUNT(*) FILTER (WHERE transaction_type = 'deposit') AS deposit_count,\n",
    "       SUM(amount) FILTER (WHERE transaction_type = 'deposit') AS deposit_amount,\n",
    "       \n",
    "       COUNT(*) FILTER (WHERE transaction_type = 'withdrawal') AS withdrawal_count,\n",
    "       SUM(amount) FILTER (WHERE transaction_type = 'withdrawal') AS withdrawal_amount,\n",
    "       \n",
    "       COUNT(*) FILTER (WHERE transaction_type = 'transfer') AS transfer_count,\n",
    "       SUM(amount) FILTER (WHERE transaction_type = 'transfer') AS transfer_amount,\n",
    "       \n",
    "       COUNT(*) FILTER (WHERE transaction_type = 'payment') AS payment_count,\n",
    "       SUM(amount) FILTER (WHERE transaction_type = 'payment') AS payment_amount\n",
    "FROM transaction_data\n",
    "GROUP BY user_id;"
   ]
  },
  {
   "cell_type": "markdown",
   "metadata": {},
   "source": [
    "### 4. Spajanje podataka\n",
    "\n",
    "Kreirajte materijalizovani pogled koji sadrži sve informacije izračunate prethodnim agregiranjem: user_activity_summary i user_transaction_summary."
   ]
  },
  {
   "cell_type": "code",
   "execution_count": null,
   "metadata": {
    "vscode": {
     "languageId": "sql"
    }
   },
   "outputs": [],
   "source": [
    "CREATE MATERIALIZED VIEW merged_dataset AS\n",
    "SELECT ua.user_id,\n",
    "       ua.take_product_count,\n",
    "       ua.leave_product_count,\n",
    "       ts.deposit_count,\n",
    "       ts.deposit_amount,\n",
    "       ts.withdrawal_count,\n",
    "       ts.withdrawal_amount,\n",
    "       ts.transfer_count,\n",
    "       ts.transfer_amount,\n",
    "       ts.payment_count,\n",
    "       ts.payment_amount\n",
    "FROM user_activity_summary ua\n",
    "JOIN user_transaction_summary ts ON ua.user_id = ts.user_id;"
   ]
  },
  {
   "cell_type": "markdown",
   "metadata": {},
   "source": [
    "### 5. Praćenje posljednje aktivnosti korisnika (latest_activity_per_user)\n",
    "Kreirati materijalizovani pogled koji za svakog korisnika prikazuje njegov posljednji zapis aktivnosti.   \n",
    "Za svaki zapis čuvaju se svi detalji aktivnosti (user_id, action, timestamp) gdje se izbor vrši na osnovu najnovijeg timestamp-a po korisniku."
   ]
  },
  {
   "cell_type": "code",
   "execution_count": null,
   "metadata": {
    "vscode": {
     "languageId": "sql"
    }
   },
   "outputs": [],
   "source": [
    "CREATE MATERIALIZED VIEW IF NOT EXISTS latest_activity_per_user AS\n",
    "SELECT * \n",
    "FROM activity_data ad\n",
    "WHERE timestamp = (\n",
    "    SELECT MAX(timestamp)\n",
    "    FROM activity_data\n",
    "    WHERE ad.user_id = user_id\n",
    ");"
   ]
  },
  {
   "cell_type": "markdown",
   "metadata": {},
   "source": [
    "### 6. TUMBLE funkcija\n",
    "\n",
    "6.1. Generisanje vremenskih prozora   \n",
    "Kreirati upit koji dijeli podatke iz `activity_data` u vremenske prozore od 5 sekundi, koristeći TUMBLE funkciju."
   ]
  },
  {
   "cell_type": "code",
   "execution_count": null,
   "metadata": {
    "vscode": {
     "languageId": "sql"
    }
   },
   "outputs": [],
   "source": [
    "SELECT *\n",
    "FROM TUMBLE(activity_data, timestamp, INTERVAL '5 SECONDS');"
   ]
  },
  {
   "cell_type": "markdown",
   "metadata": {},
   "source": [
    "6.2. Filtriranje najnovijeg vremenskog prozora  \n",
    "Prikazati sve aktivnosti koje pripadaju posljednjem vremenskom prozoru."
   ]
  },
  {
   "cell_type": "code",
   "execution_count": null,
   "metadata": {
    "vscode": {
     "languageId": "sql"
    }
   },
   "outputs": [],
   "source": [
    "SELECT *\n",
    "FROM TUMBLE(activity_data, timestamp, INTERVAL '5 SECONDS')\n",
    "WHERE window_start = (\n",
    "    SELECT MAX(window_start)\n",
    "    FROM TUMBLE(activity_data, timestamp, INTERVAL '5 SECONDS')\n",
    ");"
   ]
  },
  {
   "cell_type": "markdown",
   "metadata": {},
   "source": [
    "6.3. Agregacija po vremenskim prozorima  \n",
    "Izračunati broj aktivnosti po korisniku u svakom vremenskom prozoru."
   ]
  },
  {
   "cell_type": "code",
   "execution_count": null,
   "metadata": {
    "vscode": {
     "languageId": "sql"
    }
   },
   "outputs": [],
   "source": [
    "SELECT\n",
    "    user_id,\n",
    "    window_start,\n",
    "    window_end,\n",
    "    count(action) as actions_count\n",
    "FROM TUMBLE(activity_data, timestamp, INTERVAL '5 SECONDS')\n",
    "GROUP BY user_id, window_start, window_end;"
   ]
  },
  {
   "cell_type": "markdown",
   "metadata": {},
   "source": [
    "### 7. Definisanje funkcije za izvršavanje SQL upita\n",
    "\n",
    "Definisati funkciju `execute_query` koja izvršava SQL upit nad zadatom bazom. Koristiti `psycopg2` biblioteku za povezivanje na bazu i izvršavanje upita.  \n",
    "Izvršiti prethodne upite koristeći ovu funkciju."
   ]
  },
  {
   "cell_type": "code",
   "execution_count": 1,
   "metadata": {},
   "outputs": [],
   "source": [
    "import psycopg2\n",
    "\n",
    "\n",
    "RISINGWAVE_DB = \"dev\"\n",
    "RISINGWAVE_HOST = \"localhost\"\n",
    "RISINGWAVE_USER = \"root\"\n",
    "RISINGWAVE_PASSWORD = \"root\"\n",
    "RISINGWAVE_PORT = 4566\n",
    "\n",
    "\n",
    "def execute_query(query):\n",
    "    connection_params = {\n",
    "        \"host\": RISINGWAVE_HOST,\n",
    "        \"port\": RISINGWAVE_PORT,\n",
    "        \"user\": RISINGWAVE_USER,\n",
    "        \"password\": RISINGWAVE_PASSWORD,\n",
    "        \"database\": RISINGWAVE_DB\n",
    "    }\n",
    "    \n",
    "    try:\n",
    "        with psycopg2.connect(**connection_params) as conn:\n",
    "            with conn.cursor() as cursor:\n",
    "                cursor.execute(query)\n",
    "                \n",
    "                is_select = query.strip().upper().startswith('SELECT')\n",
    "                \n",
    "                if is_select:\n",
    "                    result = cursor.fetchall()\n",
    "                    return True, result\n",
    "                else:\n",
    "                    conn.commit()\n",
    "                    affected_rows = cursor.rowcount\n",
    "                    return True, affected_rows\n",
    "    except Exception as e:\n",
    "        print(f\"Error executing query: {e}\")\n",
    "        return False"
   ]
  },
  {
   "cell_type": "markdown",
   "metadata": {},
   "source": [
    "\n",
    "### Zadatak: Kreiranje RisingWave utils modula\n",
    "\n",
    "Kreirati Python modul `rw_utils.py` koji će sadržati pomoćne funkcije za rad sa RisingWave-om koristeći psycopg2 paket.\n",
    "\n",
    "*Proučiti [psycopg - PostgreSQL database adapter for Python dokumentaciju](https://www.psycopg.org/docs/).*\n",
    "\n",
    "Modul treba da sadrži:\n",
    "- Funkciju za povezivanje na bazu\n",
    "- Jednu ili više funkcija za izvršavanje SQL upita"
   ]
  }
 ],
 "metadata": {
  "kernelspec": {
   "display_name": ".venv",
   "language": "python",
   "name": "python3"
  },
  "language_info": {
   "codemirror_mode": {
    "name": "ipython",
    "version": 3
   },
   "file_extension": ".py",
   "mimetype": "text/x-python",
   "name": "python",
   "nbconvert_exporter": "python",
   "pygments_lexer": "ipython3",
   "version": "3.12.7"
  }
 },
 "nbformat": 4,
 "nbformat_minor": 2
}
