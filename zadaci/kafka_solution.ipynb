{
 "cells": [
  {
   "cell_type": "markdown",
   "metadata": {},
   "source": [
    "### Zadatak 1: Jednostavan Producer i Consumer\n",
    "\n",
    "Kreirajte jednostavan Kafka producer koji šalje poruke u JSON formatu (user_id, timestamp, i activity) na jedan topic i consumer koji čita poruke iz istog topic-a."
   ]
  },
  {
   "cell_type": "code",
   "execution_count": 1,
   "metadata": {},
   "outputs": [],
   "source": [
    "from kafka import KafkaProducer, KafkaConsumer\n",
    "import json\n",
    "import time\n",
    "\n",
    "import random\n",
    "from datetime import datetime"
   ]
  },
  {
   "cell_type": "code",
   "execution_count": 2,
   "metadata": {},
   "outputs": [
    {
     "name": "stdout",
     "output_type": "stream",
     "text": [
      "Sent message: {'user_id': 1, 'timestamp': 1741085949.988265, 'activity': 'login'}\n",
      "Sent message: {'user_id': 2, 'timestamp': 1741085951.3537138, 'activity': 'logout'}\n",
      "Sent message: {'user_id': 3, 'timestamp': 1741085952.354332, 'activity': 'login'}\n",
      "Sent message: {'user_id': 4, 'timestamp': 1741085953.3564982, 'activity': 'logout'}\n",
      "Sent message: {'user_id': 5, 'timestamp': 1741085954.3577764, 'activity': 'login'}\n"
     ]
    }
   ],
   "source": [
    "producer = KafkaProducer(\n",
    "    bootstrap_servers='localhost:19092',\n",
    "    value_serializer=lambda v: json.dumps(v).encode('utf-8')\n",
    ")\n",
    "\n",
    "topic = \"test_topic\"\n",
    "\n",
    "for i in range(5):\n",
    "    message = {\n",
    "        \"user_id\": i + 1,\n",
    "        \"timestamp\": time.time(),\n",
    "        \"activity\": \"login\" if i % 2 == 0 else \"logout\"\n",
    "    }\n",
    "    producer.send(topic, message)\n",
    "    print(f\"Sent message: {message}\")\n",
    "    time.sleep(1)\n",
    "\n",
    "producer.close()"
   ]
  },
  {
   "cell_type": "code",
   "execution_count": 3,
   "metadata": {},
   "outputs": [
    {
     "name": "stdout",
     "output_type": "stream",
     "text": [
      "Recieved message: {'user_id': 1, 'timestamp': 1741085949.988265, 'activity': 'login'}\n",
      "Recieved message: {'user_id': 2, 'timestamp': 1741085951.3537138, 'activity': 'logout'}\n",
      "Recieved message: {'user_id': 3, 'timestamp': 1741085952.354332, 'activity': 'login'}\n",
      "Recieved message: {'user_id': 4, 'timestamp': 1741085953.3564982, 'activity': 'logout'}\n",
      "Recieved message: {'user_id': 5, 'timestamp': 1741085954.3577764, 'activity': 'login'}\n",
      "No new messages for 5 seconds. Closing consumer...\n"
     ]
    }
   ],
   "source": [
    "consumer = KafkaConsumer(\n",
    "    \"test_topic\",\n",
    "    bootstrap_servers=\"localhost:19092\",\n",
    "    auto_offset_reset=\"earliest\",\n",
    "    value_deserializer=lambda v: json.loads(v.decode(\"utf-8\")),\n",
    "    consumer_timeout_ms=5000,\n",
    ")\n",
    "\n",
    "try:\n",
    "    for message in consumer:\n",
    "        print(f\"Recieved message: {message.value}\")\n",
    "        time.sleep(1)\n",
    "finally:\n",
    "    print(\"No new messages for 5 seconds. Closing consumer...\")\n",
    "    consumer.close()"
   ]
  },
  {
   "cell_type": "markdown",
   "metadata": {},
   "source": [
    "### Zadatak 2: Producer na dva topica i Consumer iz više topic-a\n",
    "\n",
    "Kreirajte producer koji šalje dva tipa poruka (aktivnosti korisnika - npr. take_product, leave_product, transakcije korisnika - deposit, withdrawal) na dva različita topic-a i consumer koji čita poruke iz oba topic-a."
   ]
  },
  {
   "cell_type": "code",
   "execution_count": 4,
   "metadata": {},
   "outputs": [
    {
     "name": "stdout",
     "output_type": "stream",
     "text": [
      "Sent messages: {'timestamp': '2025-03-04 11:59:39', 'user_id': 1, 'action': 'leave_product', 'bank': 'bank 1'} and {'timestamp': '2025-03-04 11:59:39', 'user_id': 1, 'transaction_type': 'deposit', 'amount': 154}\n",
      "Sent messages: {'timestamp': '2025-03-04 11:59:40', 'user_id': 2, 'action': 'leave_product', 'bank': 'bank 2'} and {'timestamp': '2025-03-04 11:59:40', 'user_id': 2, 'transaction_type': 'payment', 'amount': 298}\n",
      "Sent messages: {'timestamp': '2025-03-04 11:59:41', 'user_id': 3, 'action': 'leave_product', 'bank': 'bank 3'} and {'timestamp': '2025-03-04 11:59:41', 'user_id': 3, 'transaction_type': 'withdrawal', 'amount': 409}\n"
     ]
    }
   ],
   "source": [
    "producer = KafkaProducer(\n",
    "    bootstrap_servers='localhost:19092',\n",
    "    value_serializer=lambda v: json.dumps(v).encode('utf-8')\n",
    ")\n",
    "\n",
    "topic1 = \"user_activities\"\n",
    "topic2 = \"user_transactions\"\n",
    "\n",
    "activity_types = [\"take_product\", \"leave_product\", \"open_account\", \"close_account\"]\n",
    "transaction_types = [\"deposit\", \"withdrawal\", \"transfer\", \"payment\"]\n",
    "\n",
    "for i in range(3):\n",
    "    timestamp = datetime.now().strftime(\"%Y-%m-%d %H:%M:%S\")\n",
    "    activity_message = {\n",
    "        \"timestamp\": timestamp,\n",
    "        \"user_id\": i + 1,\n",
    "        \"action\": random.choice(activity_types),\n",
    "        \"bank\": f\"bank {i + 1}\"\n",
    "    }\n",
    "    transaction_message = {\n",
    "        \"timestamp\": timestamp,\n",
    "        \"user_id\": i + 1,\n",
    "        \"transaction_type\": random.choice(transaction_types),\n",
    "        \"amount\": random.randint(100, 500)\n",
    "    }\n",
    "\n",
    "    producer.send(topic1, activity_message)\n",
    "    producer.send(topic2, transaction_message)\n",
    "    print(f\"Sent messages: {activity_message} and {transaction_message}\")\n",
    "    time.sleep(1)\n",
    "\n",
    "producer.close()"
   ]
  },
  {
   "cell_type": "code",
   "execution_count": 5,
   "metadata": {},
   "outputs": [
    {
     "name": "stdout",
     "output_type": "stream",
     "text": [
      "Recieved message from topic user_transactions: {'timestamp': '2025-03-04 11:59:39', 'user_id': 1, 'transaction_type': 'deposit', 'amount': 154}\n",
      "Recieved message from topic user_transactions: {'timestamp': '2025-03-04 11:59:40', 'user_id': 2, 'transaction_type': 'payment', 'amount': 298}\n",
      "Recieved message from topic user_transactions: {'timestamp': '2025-03-04 11:59:41', 'user_id': 3, 'transaction_type': 'withdrawal', 'amount': 409}\n",
      "Recieved message from topic user_activities: {'timestamp': '2025-03-04 11:59:39', 'user_id': 1, 'action': 'leave_product', 'bank': 'bank 1'}\n",
      "Recieved message from topic user_activities: {'timestamp': '2025-03-04 11:59:40', 'user_id': 2, 'action': 'leave_product', 'bank': 'bank 2'}\n",
      "Recieved message from topic user_activities: {'timestamp': '2025-03-04 11:59:41', 'user_id': 3, 'action': 'leave_product', 'bank': 'bank 3'}\n",
      "No new messages for 5 seconds. Closing consumer...\n"
     ]
    }
   ],
   "source": [
    "consumer = KafkaConsumer(\n",
    "    \"user_activities\",\n",
    "    \"user_transactions\",\n",
    "    bootstrap_servers='localhost:19092',\n",
    "    auto_offset_reset='earliest',\n",
    "    value_deserializer=lambda v: json.loads(v.decode('utf-8')),\n",
    "    consumer_timeout_ms=5000\n",
    ")\n",
    "\n",
    "try:\n",
    "    for message in consumer:\n",
    "        print(f\"Recieved message from topic {message.topic}: {message.value}\")\n",
    "        time.sleep(1)\n",
    "\n",
    "finally:\n",
    "    print(\"No new messages for 5 seconds. Closing consumer...\")\n",
    "    consumer.close()\n"
   ]
  },
  {
   "cell_type": "markdown",
   "metadata": {},
   "source": [
    "### Zadatak 3: Producer koji šalje poruke različitog formata na jedan topic\n",
    "\n",
    "Kreirajte producer koji šalje poruke različitog formata na jedan topic.\n",
    "\n",
    "1. Zajednički atributi za sve poruke:\n",
    "   - timestamp\n",
    "   - user_id\n",
    "   - message_key (za identifikaciju tipa poruke)\n",
    "\n",
    "2. Specifični atributi za različite tipove poruka:\n",
    "   - Activity poruke: action, bank\n",
    "   - Transaction poruke: transaction_type, amount"
   ]
  },
  {
   "cell_type": "code",
   "execution_count": 6,
   "metadata": {},
   "outputs": [
    {
     "name": "stdout",
     "output_type": "stream",
     "text": [
      "Sent message: {'user_id': 1, 'action': 'take_product', 'bank': 'bank 1', 'message_key': 'activity', 'timestamp': '2025-03-04 12:00:54'}\n",
      "Sent message: {'user_id': 1, 'transaction_type': 'withdrawal', 'amount': 3242.51, 'message_key': 'transaction', 'timestamp': '2025-03-04 12:00:55'}\n",
      "Sent message: {'user_id': 2, 'action': 'leave_product', 'bank': 'bank 2', 'message_key': 'activity', 'timestamp': '2025-03-04 12:00:56'}\n",
      "Sent message: {'user_id': 2, 'transaction_type': 'payment', 'amount': 494.39, 'message_key': 'transaction', 'timestamp': '2025-03-04 12:00:57'}\n"
     ]
    }
   ],
   "source": [
    "producer = KafkaProducer(\n",
    "    bootstrap_servers='localhost:19092',\n",
    "    value_serializer=lambda v: json.dumps(v).encode('utf-8')\n",
    ")\n",
    "\n",
    "topic = \"user_events\"\n",
    "\n",
    "activity_types = [\"take_product\", \"leave_product\"]\n",
    "transaction_types = [\"deposit\", \"withdrawal\", \"transfer\", \"payment\"]\n",
    "\n",
    "messages = [\n",
    "    {\n",
    "        \"user_id\": 1,\n",
    "        \"action\": random.choice(activity_types),\n",
    "        \"bank\": \"bank 1\",\n",
    "        \"message_key\": \"activity\",\n",
    "    },\n",
    "    {\n",
    "        \"user_id\": 1,\n",
    "        \"transaction_type\": random.choice(transaction_types),\n",
    "        \"amount\": round(random.uniform(0, 5000.00), 2),\n",
    "        \"message_key\": \"transaction\",\n",
    "    },\n",
    "    {\n",
    "        \"user_id\": 2,\n",
    "        \"action\": random.choice(activity_types),\n",
    "        \"bank\": \"bank 2\",\n",
    "        \"message_key\": \"activity\",\n",
    "    },\n",
    "    {\n",
    "        \"user_id\": 2,\n",
    "        \"transaction_type\": random.choice(transaction_types),\n",
    "        \"amount\": round(random.uniform(0, 500.00), 2),\n",
    "        \"message_key\": \"transaction\",\n",
    "    },\n",
    "]\n",
    "\n",
    "for msg in messages:\n",
    "    msg[\"timestamp\"] = datetime.now().strftime(\"%Y-%m-%d %H:%M:%S\")\n",
    "    producer.send(topic, msg)\n",
    "    print(f\"Sent message: {msg}\")\n",
    "    time.sleep(1)\n",
    "\n",
    "producer.close()"
   ]
  },
  {
   "cell_type": "markdown",
   "metadata": {},
   "source": [
    "### Zadatak 4: Procesiranje poruka po tipu\n",
    "\n",
    "Kreirajte consumer koji čita poruke iz jednog topic-a i procesira ih prema tipu. Implementirajte:\n",
    "\n",
    "1. Identifikovanje tipa poruke\n",
    "   - Koristiti message_key za identifikaciju tipa poruke\n",
    "   - Validacija formata poruke prema tipu\n",
    "\n",
    "2. Procesiranje poruke\n",
    "   - Različita logika procesiranja za svaki tip poruke"
   ]
  },
  {
   "cell_type": "code",
   "execution_count": 7,
   "metadata": {},
   "outputs": [
    {
     "name": "stdout",
     "output_type": "stream",
     "text": [
      "Processing activity: User 1 performed take_product at bank 1\n",
      "Processing transaction: User 1 made withdrawal of 3242.51\n",
      "Processing activity: User 2 performed leave_product at bank 2\n",
      "Processing transaction: User 2 made payment of 494.39\n",
      "Closing consumer...\n"
     ]
    }
   ],
   "source": [
    "def validate_message(message):\n",
    "    message_type = message.get(\"message_key\")\n",
    "    \n",
    "    if message_type == \"activity\":\n",
    "        required_fields = [\"user_id\", \"action\", \"bank\"]\n",
    "    elif message_type == \"transaction\":\n",
    "        required_fields = [\"user_id\", \"transaction_type\", \"amount\"]\n",
    "    else:\n",
    "        print(f\"Unknown message type: {message_type}\")\n",
    "        return False\n",
    "        \n",
    "    return all(field in message for field in required_fields)\n",
    "\n",
    "def process_activity(message):\n",
    "    print(f\"Processing activity: User {message['user_id']} \"\n",
    "          f\"performed {message['action']} at {message['bank']}\")\n",
    "\n",
    "def process_transaction(message):\n",
    "    print(f\"Processing transaction: User {message['user_id']} \"\n",
    "          f\"made {message['transaction_type']} of {message['amount']}\")\n",
    "\n",
    "consumer = KafkaConsumer(\n",
    "    \"user_events\",\n",
    "    bootstrap_servers='localhost:19092',\n",
    "    auto_offset_reset='earliest',\n",
    "    value_deserializer=lambda v: json.loads(v.decode('utf-8')),\n",
    "    consumer_timeout_ms=5000\n",
    ")\n",
    "\n",
    "try:\n",
    "    for message in consumer:\n",
    "        value = message.value\n",
    "\n",
    "        value[\"processed_timestamp\"] = datetime.now().strftime(\"%Y-%m-%d %H:%M:%S\")\n",
    "\n",
    "        if not validate_message(value):\n",
    "            print(f\"Invalid message format: {value}\")\n",
    "            continue\n",
    "\n",
    "        if value[\"message_key\"] == \"activity\":\n",
    "            process_activity(value)\n",
    "        elif value[\"message_key\"] == \"transaction\":\n",
    "            process_transaction(value)\n",
    "\n",
    "        time.sleep(1)\n",
    "\n",
    "except KeyboardInterrupt:\n",
    "    print(\"Stopping the consumer...\")\n",
    "finally:\n",
    "    print(\"Closing consumer...\")\n",
    "    consumer.close()"
   ]
  },
  {
   "cell_type": "markdown",
   "metadata": {},
   "source": [
    "### Zadatak 5: Stream processing pipeline\n",
    "\n",
    "Implementirajte stream processing pipeline koji:\n",
    "\n",
    "1. Čita poruke iz izvornog topic-a\n",
    "2. Procesira poruke:\n",
    "   - Transformiše poruke u novi format\n",
    "   - Dodaje processed_timestamp\n",
    "\n",
    "3. Šalje procesirane poruke na novi topic"
   ]
  },
  {
   "cell_type": "code",
   "execution_count": 8,
   "metadata": {},
   "outputs": [
    {
     "name": "stdout",
     "output_type": "stream",
     "text": [
      "Processed and sent: {'user_id': 1, 'processed_timestamp': '2025-03-04 12:05:36', 'type': 'processed_activity', 'description': 'User performed take_product at bank 1'}\n",
      "Processed and sent: {'user_id': 1, 'processed_timestamp': '2025-03-04 12:05:37', 'type': 'processed_transaction', 'description': 'User made withdrawal of 3242.51'}\n",
      "Processed and sent: {'user_id': 2, 'processed_timestamp': '2025-03-04 12:05:38', 'type': 'processed_activity', 'description': 'User performed leave_product at bank 2'}\n",
      "Processed and sent: {'user_id': 2, 'processed_timestamp': '2025-03-04 12:05:39', 'type': 'processed_transaction', 'description': 'User made payment of 494.39'}\n",
      "Closing consumer and producer...\n"
     ]
    }
   ],
   "source": [
    "def validate_message(message):\n",
    "    message_type = message.get(\"message_key\")\n",
    "\n",
    "    if message_type == \"activity\":\n",
    "        required_fields = [\"user_id\", \"action\", \"bank\"]\n",
    "    elif message_type == \"transaction\":\n",
    "        required_fields = [\"user_id\", \"transaction_type\", \"amount\"]\n",
    "    else:\n",
    "        print(f\"Unknown message type: {message_type}\")\n",
    "        return False\n",
    "\n",
    "    return all(field in message for field in required_fields)\n",
    "\n",
    "\n",
    "def process_message(message):\n",
    "    message_type = message[\"message_key\"]\n",
    "    processed_message = {\n",
    "        \"user_id\": message[\"user_id\"],\n",
    "        \"processed_timestamp\": datetime.now().strftime(\"%Y-%m-%d %H:%M:%S\"),\n",
    "    }\n",
    "\n",
    "    if message_type == \"activity\":\n",
    "        processed_message.update(\n",
    "            {\n",
    "                \"type\": \"processed_activity\",\n",
    "                \"description\": f\"User performed {message['action']} at {message['bank']}\",\n",
    "            }\n",
    "        )\n",
    "    elif message_type == \"transaction\":\n",
    "        processed_message.update(\n",
    "            {\n",
    "                \"type\": \"processed_transaction\",\n",
    "                \"description\": f\"User made {message['transaction_type']} of {message['amount']}\",\n",
    "            }\n",
    "        )\n",
    "\n",
    "    return processed_message\n",
    "\n",
    "\n",
    "consumer = KafkaConsumer(\n",
    "    \"user_events\",\n",
    "    bootstrap_servers=\"localhost:19092\",\n",
    "    auto_offset_reset=\"earliest\",\n",
    "    value_deserializer=lambda v: json.loads(v.decode(\"utf-8\")),\n",
    "    consumer_timeout_ms=5000,\n",
    ")\n",
    "\n",
    "producer = KafkaProducer(\n",
    "    bootstrap_servers=\"localhost:19092\",\n",
    "    value_serializer=lambda v: json.dumps(v).encode(\"utf-8\"),\n",
    ")\n",
    "\n",
    "output_topic = \"processed_events\"\n",
    "\n",
    "try:\n",
    "    for message in consumer:\n",
    "        value = message.value\n",
    "\n",
    "        if not validate_message(value):\n",
    "            print(f\"Skipping invalid message: {value}\")\n",
    "            continue\n",
    "\n",
    "        processed_message = process_message(value)\n",
    "\n",
    "        producer.send(output_topic, processed_message)\n",
    "        print(f\"Processed and sent: {processed_message}\")\n",
    "\n",
    "        time.sleep(1)\n",
    "\n",
    "except KeyboardInterrupt:\n",
    "    print(\"Stopping the pipeline...\")\n",
    "finally:\n",
    "    print(\"Closing consumer and producer...\")\n",
    "    consumer.close()\n",
    "    producer.close()"
   ]
  },
  {
   "cell_type": "markdown",
   "metadata": {},
   "source": [
    "### Zadatak: Kreiranje Kafka utils modula\n",
    "\n",
    "Kreirati Python modul `kafka_utils.py` koji će sadržati pomoćne funkcije za rad sa Kafkom koristeći kafka-python-ng paket.\n",
    "\n",
    "Modul treba da sadrži:\n",
    "- Funkciju za kreiranje i konfiguraciju Kafka producer-a\n",
    "- Funkcije za slanje poruka na Kafka topic\n",
    "- Funkciju za kreiranje Kafka topic-a\n",
    "\n",
    "Testirati modul sa primjerima korištenja svake funkcije."
   ]
  }
 ],
 "metadata": {
  "kernelspec": {
   "display_name": ".venv",
   "language": "python",
   "name": "python3"
  },
  "language_info": {
   "codemirror_mode": {
    "name": "ipython",
    "version": 3
   },
   "file_extension": ".py",
   "mimetype": "text/x-python",
   "name": "python",
   "nbconvert_exporter": "python",
   "pygments_lexer": "ipython3",
   "version": "3.12.7"
  }
 },
 "nbformat": 4,
 "nbformat_minor": 2
}
